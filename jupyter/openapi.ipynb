{
 "cells": [
  {
   "cell_type": "code",
   "execution_count": 1,
   "metadata": {},
   "outputs": [
    {
     "data": {
      "text/plain": [
       "['',\n",
       " 'C:\\\\Python39',\n",
       " 'C:\\\\Python39\\\\DLLs',\n",
       " 'C:\\\\Python39\\\\lib',\n",
       " 'C:\\\\Python39\\\\python39.zip',\n",
       " 'c:\\\\pypjts\\\\GovDataScience\\\\govDataScienceEnv_py39_64bit',\n",
       " 'c:\\\\pypjts\\\\GovDataScience\\\\govDataScienceEnv_py39_64bit\\\\lib\\\\site-packages',\n",
       " 'c:\\\\pypjts\\\\GovDataScience\\\\govDataScienceEnv_py39_64bit\\\\lib\\\\site-packages\\\\Pythonwin',\n",
       " 'c:\\\\pypjts\\\\GovDataScience\\\\govDataScienceEnv_py39_64bit\\\\lib\\\\site-packages\\\\win32',\n",
       " 'c:\\\\pypjts\\\\GovDataScience\\\\govDataScienceEnv_py39_64bit\\\\lib\\\\site-packages\\\\win32\\\\lib',\n",
       " 'c:\\\\pypjts\\\\GovDataScience\\\\jupyter']"
      ]
     },
     "execution_count": 1,
     "metadata": {},
     "output_type": "execute_result"
    }
   ],
   "source": [
    "import sys \n",
    "sorted(sys.path)"
   ]
  },
  {
   "cell_type": "code",
   "execution_count": 2,
   "metadata": {},
   "outputs": [],
   "source": [
    "import requests"
   ]
  },
  {
   "cell_type": "code",
   "execution_count": 10,
   "metadata": {},
   "outputs": [],
   "source": [
    "import json \n",
    "import os \n",
    "\n",
    "file = os.path.abspath(\"C:\\\\pypjts\\\\GovDataScience\\\\authkey.json\")\n",
    "with open(file, \"r\") as f:\n",
    "    text = f.read()\n",
    "d = json.loads(text)\n",
    "encodeKey = d['EncodingKey']\n",
    "decodeKey = d['DecodingKey']"
   ]
  },
  {
   "cell_type": "code",
   "execution_count": 11,
   "metadata": {},
   "outputs": [
    {
     "data": {
      "text/plain": [
       "{'EncodingKey': 'PAv0rpbn9m83ILzwbzerJiMreB9ShjY34j23xlhCmq2WFN0ZUxCwiTKQ5UZXxU0erBl%2Fm074t1QKXlZpVI86nQ%3D%3D',\n",
       " 'DecodingKey': 'PAv0rpbn9m83ILzwbzerJiMreB9ShjY34j23xlhCmq2WFN0ZUxCwiTKQ5UZXxU0erBl/m074t1QKXlZpVI86nQ=='}"
      ]
     },
     "execution_count": 11,
     "metadata": {},
     "output_type": "execute_result"
    }
   ],
   "source": [
    "d"
   ]
  },
  {
   "cell_type": "code",
   "execution_count": 21,
   "metadata": {},
   "outputs": [],
   "source": [
    "url = 'http://openapi.molit.go.kr/OpenAPI_ToolInstallPackage/service/rest/RTMSOBJSvc/getRTMSDataSvcAptTradeDev'\n",
    "params ={'serviceKey' : decodeKey, 'pageNo' : '1', 'numOfRows' : '10', 'LAWD_CD' : '11110', 'DEAL_YMD' : '201512' }\n",
    "\n",
    "response = requests.get(url, params=params)"
   ]
  },
  {
   "cell_type": "code",
   "execution_count": 22,
   "metadata": {},
   "outputs": [
    {
     "data": {
      "text/plain": [
       "<Response [200]>"
      ]
     },
     "execution_count": 22,
     "metadata": {},
     "output_type": "execute_result"
    }
   ],
   "source": [
    "response"
   ]
  },
  {
   "cell_type": "code",
   "execution_count": 23,
   "metadata": {},
   "outputs": [
    {
     "data": {
      "text/plain": [
       "{'_content': b'<?xml version=\"1.0\" encoding=\"UTF-8\" standalone=\"yes\"?><response><header><resultCode>99</resultCode><resultMsg>SERVICE KEY IS NOT REGISTERED ERROR.</resultMsg></header></response>',\n",
       " '_content_consumed': True,\n",
       " '_next': None,\n",
       " 'status_code': 200,\n",
       " 'headers': {'Date': 'Wed, 24 May 2023 20:59:03 GMT', 'Server': 'apache', 'Content-Type': 'application/xml', 'Content-Length': '179', 'Set-Cookie': 'ROUTEID=.HTTP1; path=/', 'Keep-Alive': 'timeout=10, max=100', 'Connection': 'Keep-Alive'},\n",
       " 'raw': <urllib3.response.HTTPResponse at 0x2239dec7be0>,\n",
       " 'url': 'http://openapi.molit.go.kr/OpenAPI_ToolInstallPackage/service/rest/RTMSOBJSvc/getRTMSDataSvcAptTradeDev?serviceKey=PAv0rpbn9m83ILzwbzerJiMreB9ShjY34j23xlhCmq2WFN0ZUxCwiTKQ5UZXxU0erBl%2Fm074t1QKXlZpVI86nQ%3D%3D&pageNo=1&numOfRows=10&LAWD_CD=11110&DEAL_YMD=201512',\n",
       " 'encoding': None,\n",
       " 'history': [],\n",
       " 'reason': 'OK',\n",
       " 'cookies': <RequestsCookieJar[Cookie(version=0, name='ROUTEID', value='.HTTP1', port=None, port_specified=False, domain='openapi.molit.go.kr', domain_specified=False, domain_initial_dot=False, path='/', path_specified=True, secure=False, expires=None, discard=True, comment=None, comment_url=None, rest={}, rfc2109=False)]>,\n",
       " 'elapsed': datetime.timedelta(microseconds=47824),\n",
       " 'request': <PreparedRequest [GET]>,\n",
       " 'connection': <requests.adapters.HTTPAdapter at 0x2239de705e0>}"
      ]
     },
     "execution_count": 23,
     "metadata": {},
     "output_type": "execute_result"
    }
   ],
   "source": [
    "response.__dict__"
   ]
  },
  {
   "cell_type": "code",
   "execution_count": 16,
   "metadata": {},
   "outputs": [
    {
     "name": "stdout",
     "output_type": "stream",
     "text": [
      "b'<?xml version=\"1.0\" encoding=\"UTF-8\" standalone=\"yes\"?><response><header><resultCode>99</resultCode><resultMsg>SERVICE KEY IS NOT REGISTERED ERROR.</resultMsg></header></response>'\n"
     ]
    }
   ],
   "source": [
    "print(response.content)"
   ]
  },
  {
   "cell_type": "code",
   "execution_count": null,
   "metadata": {},
   "outputs": [],
   "source": []
  }
 ],
 "metadata": {
  "kernelspec": {
   "display_name": "govDataScienceEnv_py39_64bit",
   "language": "python",
   "name": "python3"
  },
  "language_info": {
   "codemirror_mode": {
    "name": "ipython",
    "version": 3
   },
   "file_extension": ".py",
   "mimetype": "text/x-python",
   "name": "python",
   "nbconvert_exporter": "python",
   "pygments_lexer": "ipython3",
   "version": "3.9.2"
  },
  "orig_nbformat": 4
 },
 "nbformat": 4,
 "nbformat_minor": 2
}
