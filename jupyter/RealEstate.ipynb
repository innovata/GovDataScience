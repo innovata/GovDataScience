{
 "cells": [
  {
   "cell_type": "code",
   "execution_count": 1,
   "metadata": {},
   "outputs": [
    {
     "name": "stderr",
     "output_type": "stream",
     "text": [
      "2023-06-21 16:24:54,309 | INFO | [75164/MainProcess][83116/MainThread] | idebug.set_viewEnvType[159] | <ipylib.idebug.Debugger object at 0x000001AC63244B20> | 1 (1: print | 2: logger | 3: jupyter)\n"
     ]
    },
    {
     "name": "stdout",
     "output_type": "stream",
     "text": [
      "\n",
      "C:\\Python39\n",
      "C:\\Python39\\DLLs\n",
      "C:\\Python39\\lib\n",
      "C:\\Python39\\python39.zip\n",
      "C:\\pypjts\\GovDataScience\\src\n",
      "c:\\pypjts\\GovDataScience\\govDataScienceEnv_py39_64bit\n",
      "c:\\pypjts\\GovDataScience\\govDataScienceEnv_py39_64bit\\lib\\site-packages\n",
      "c:\\pypjts\\GovDataScience\\govDataScienceEnv_py39_64bit\\lib\\site-packages\\Pythonwin\n",
      "c:\\pypjts\\GovDataScience\\govDataScienceEnv_py39_64bit\\lib\\site-packages\\win32\n",
      "c:\\pypjts\\GovDataScience\\govDataScienceEnv_py39_64bit\\lib\\site-packages\\win32\\lib\n",
      "c:\\pypjts\\GovDataScience\\jupyter\n",
      "LogLevel: 10 (DEBUG) c:\\pypjts\\GovDataScience\\govDataScienceEnv_py39_64bit\\lib\\site-packages\\ipylib\\idebug.py\n"
     ]
    }
   ],
   "source": [
    "from _jupyterEnv import *"
   ]
  },
  {
   "cell_type": "code",
   "execution_count": 8,
   "metadata": {},
   "outputs": [
    {
     "name": "stdout",
     "output_type": "stream",
     "text": [
      "{'DataLen': 1283575}\n"
     ]
    }
   ],
   "source": [
    "reload_all()\n",
    "g1, g2 = realestate.AptTrade().analysis01()"
   ]
  },
  {
   "cell_type": "code",
   "execution_count": 9,
   "metadata": {},
   "outputs": [
    {
     "data": {
      "text/html": [
       "<div>\n",
       "<style scoped>\n",
       "    .dataframe tbody tr th:only-of-type {\n",
       "        vertical-align: middle;\n",
       "    }\n",
       "\n",
       "    .dataframe tbody tr th {\n",
       "        vertical-align: top;\n",
       "    }\n",
       "\n",
       "    .dataframe thead th {\n",
       "        text-align: right;\n",
       "    }\n",
       "</style>\n",
       "<table border=\"1\" class=\"dataframe\">\n",
       "  <thead>\n",
       "    <tr style=\"text-align: right;\">\n",
       "      <th></th>\n",
       "      <th>_id</th>\n",
       "      <th>지역코드</th>\n",
       "    </tr>\n",
       "    <tr>\n",
       "      <th>계약연월</th>\n",
       "      <th></th>\n",
       "      <th></th>\n",
       "    </tr>\n",
       "  </thead>\n",
       "  <tbody>\n",
       "    <tr>\n",
       "      <th>199511</th>\n",
       "      <td>17</td>\n",
       "      <td>17</td>\n",
       "    </tr>\n",
       "    <tr>\n",
       "      <th>199512</th>\n",
       "      <td>17</td>\n",
       "      <td>17</td>\n",
       "    </tr>\n",
       "    <tr>\n",
       "      <th>199601</th>\n",
       "      <td>17</td>\n",
       "      <td>17</td>\n",
       "    </tr>\n",
       "    <tr>\n",
       "      <th>199602</th>\n",
       "      <td>17</td>\n",
       "      <td>17</td>\n",
       "    </tr>\n",
       "    <tr>\n",
       "      <th>199603</th>\n",
       "      <td>17</td>\n",
       "      <td>17</td>\n",
       "    </tr>\n",
       "    <tr>\n",
       "      <th>...</th>\n",
       "      <td>...</td>\n",
       "      <td>...</td>\n",
       "    </tr>\n",
       "    <tr>\n",
       "      <th>202302</th>\n",
       "      <td>21654</td>\n",
       "      <td>21654</td>\n",
       "    </tr>\n",
       "    <tr>\n",
       "      <th>202303</th>\n",
       "      <td>23867</td>\n",
       "      <td>23867</td>\n",
       "    </tr>\n",
       "    <tr>\n",
       "      <th>202304</th>\n",
       "      <td>23536</td>\n",
       "      <td>23536</td>\n",
       "    </tr>\n",
       "    <tr>\n",
       "      <th>202305</th>\n",
       "      <td>14621</td>\n",
       "      <td>14621</td>\n",
       "    </tr>\n",
       "    <tr>\n",
       "      <th>202306</th>\n",
       "      <td>529</td>\n",
       "      <td>529</td>\n",
       "    </tr>\n",
       "  </tbody>\n",
       "</table>\n",
       "<p>332 rows × 2 columns</p>\n",
       "</div>"
      ],
      "text/plain": [
       "          _id   지역코드\n",
       "계약연월                \n",
       "199511     17     17\n",
       "199512     17     17\n",
       "199601     17     17\n",
       "199602     17     17\n",
       "199603     17     17\n",
       "...       ...    ...\n",
       "202302  21654  21654\n",
       "202303  23867  23867\n",
       "202304  23536  23536\n",
       "202305  14621  14621\n",
       "202306    529    529\n",
       "\n",
       "[332 rows x 2 columns]"
      ]
     },
     "execution_count": 9,
     "metadata": {},
     "output_type": "execute_result"
    }
   ],
   "source": [
    "g1"
   ]
  },
  {
   "cell_type": "code",
   "execution_count": 10,
   "metadata": {},
   "outputs": [
    {
     "data": {
      "text/html": [
       "<div>\n",
       "<style scoped>\n",
       "    .dataframe tbody tr th:only-of-type {\n",
       "        vertical-align: middle;\n",
       "    }\n",
       "\n",
       "    .dataframe tbody tr th {\n",
       "        vertical-align: top;\n",
       "    }\n",
       "\n",
       "    .dataframe thead th {\n",
       "        text-align: right;\n",
       "    }\n",
       "</style>\n",
       "<table border=\"1\" class=\"dataframe\">\n",
       "  <thead>\n",
       "    <tr style=\"text-align: right;\">\n",
       "      <th></th>\n",
       "      <th>_id</th>\n",
       "      <th>계약연월</th>\n",
       "    </tr>\n",
       "    <tr>\n",
       "      <th>지역코드</th>\n",
       "      <th></th>\n",
       "      <th></th>\n",
       "    </tr>\n",
       "  </thead>\n",
       "  <tbody>\n",
       "    <tr>\n",
       "      <th>11350</th>\n",
       "      <td>120080</td>\n",
       "      <td>120080</td>\n",
       "    </tr>\n",
       "    <tr>\n",
       "      <th>11710</th>\n",
       "      <td>81965</td>\n",
       "      <td>81965</td>\n",
       "    </tr>\n",
       "    <tr>\n",
       "      <th>11680</th>\n",
       "      <td>76279</td>\n",
       "      <td>76279</td>\n",
       "    </tr>\n",
       "    <tr>\n",
       "      <th>11500</th>\n",
       "      <td>74266</td>\n",
       "      <td>74266</td>\n",
       "    </tr>\n",
       "    <tr>\n",
       "      <th>11740</th>\n",
       "      <td>69938</td>\n",
       "      <td>69938</td>\n",
       "    </tr>\n",
       "    <tr>\n",
       "      <th>...</th>\n",
       "      <td>...</td>\n",
       "      <td>...</td>\n",
       "    </tr>\n",
       "    <tr>\n",
       "      <th>27170</th>\n",
       "      <td>191</td>\n",
       "      <td>191</td>\n",
       "    </tr>\n",
       "    <tr>\n",
       "      <th>45210</th>\n",
       "      <td>186</td>\n",
       "      <td>186</td>\n",
       "    </tr>\n",
       "    <tr>\n",
       "      <th>11110</th>\n",
       "      <td>136</td>\n",
       "      <td>121</td>\n",
       "    </tr>\n",
       "    <tr>\n",
       "      <th>26110</th>\n",
       "      <td>70</td>\n",
       "      <td>70</td>\n",
       "    </tr>\n",
       "    <tr>\n",
       "      <th>50130</th>\n",
       "      <td>27</td>\n",
       "      <td>0</td>\n",
       "    </tr>\n",
       "  </tbody>\n",
       "</table>\n",
       "<p>118 rows × 2 columns</p>\n",
       "</div>"
      ],
      "text/plain": [
       "          _id    계약연월\n",
       "지역코드                 \n",
       "11350  120080  120080\n",
       "11710   81965   81965\n",
       "11680   76279   76279\n",
       "11500   74266   74266\n",
       "11740   69938   69938\n",
       "...       ...     ...\n",
       "27170     191     191\n",
       "45210     186     186\n",
       "11110     136     121\n",
       "26110      70      70\n",
       "50130      27       0\n",
       "\n",
       "[118 rows x 2 columns]"
      ]
     },
     "execution_count": 10,
     "metadata": {},
     "output_type": "execute_result"
    }
   ],
   "source": [
    "g2.sort_values('_id', ascending=False)"
   ]
  },
  {
   "cell_type": "code",
   "execution_count": null,
   "metadata": {},
   "outputs": [],
   "source": []
  }
 ],
 "metadata": {
  "kernelspec": {
   "display_name": "govDataScienceEnv_py39_64bit",
   "language": "python",
   "name": "python3"
  },
  "language_info": {
   "codemirror_mode": {
    "name": "ipython",
    "version": 3
   },
   "file_extension": ".py",
   "mimetype": "text/x-python",
   "name": "python",
   "nbconvert_exporter": "python",
   "pygments_lexer": "ipython3",
   "version": "3.9.2"
  },
  "orig_nbformat": 4
 },
 "nbformat": 4,
 "nbformat_minor": 2
}
